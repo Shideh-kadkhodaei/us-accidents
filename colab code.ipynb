{
  "cells": [
    {
      "cell_type": "code",
      "execution_count": null,
      "metadata": {
        "id": "XU84ICK6ueDC"
      },
      "outputs": [],
      "source": [
        "# Install the Kaggle API library\n",
        "pip install kaggle"
      ]
    },
    {
      "cell_type": "code",
      "execution_count": null,
      "metadata": {
        "id": "Tzjaw0WrwrEm"
      },
      "outputs": [],
      "source": [
        "# Upload your Kaggle API token (kaggle.json)\n",
        "from google.colab import files\n",
        "files.upload()"
      ]
    },
    {
      "cell_type": "code",
      "execution_count": null,
      "metadata": {
        "id": "HlbigRRTxJCn"
      },
      "outputs": [],
      "source": [
        "# Create a hidden .kaggle directory if it doesn't exist\n",
        "!mkdir ~/.kaggle\n",
        "\n",
        "# Move the uploaded kaggle.json file to the .kaggle directory\n",
        "!cp kaggle.json ~/.kaggle/\n",
        "\n",
        "# Set permissions\n",
        "!chmod 600 ~/.kaggle/kaggle.json"
      ]
    },
    {
      "cell_type": "code",
      "execution_count": null,
      "metadata": {
        "id": "7F90t104yeNF"
      },
      "outputs": [],
      "source": [
        "# Download the US Accidents dataset from Kaggle\n",
        "!kaggle datasets download -d sobhanmoosavi/us-accidents"
      ]
    },
    {
      "cell_type": "code",
      "execution_count": null,
      "metadata": {
        "id": "iWBv1K4yzym7"
      },
      "outputs": [],
      "source": [
        "# Unzip the downloaded dataset\n",
        "!unzip us-accidents.zip"
      ]
    },
    {
      "cell_type": "code",
      "execution_count": null,
      "metadata": {
        "id": "Yk6sjInI4vAu"
      },
      "outputs": [],
      "source": [
        "# Import cuDF library for GPU-accelerated data processing\n",
        "import cudf\n",
        "\n",
        "df = cudf.read_csv(\"/content/US_Accidents_March23.csv\")\n",
        "df.info()"
      ]
    },
    {
      "cell_type": "code",
      "execution_count": null,
      "metadata": {
        "id": "Ous-HWpf5Yc0"
      },
      "outputs": [],
      "source": [
        "# Drop rows with missing coordinates\n",
        "df = df.dropna(subset=['Start_Lat', 'Start_Lng'])\n",
        "\n",
        "# Keep only valid lat and lon values\n",
        "df = df[(df['Start_Lat'].between(-90, 90)) & (df['Start_Lng'].between(-180, 180))]\n",
        "\n",
        "# Display summary statistics\n",
        "df[['Start_Lat', 'Start_Lng']].describe()"
      ]
    },
    {
      "cell_type": "code",
      "execution_count": null,
      "metadata": {
        "id": "wJ_RyyBh5hXo"
      },
      "outputs": [],
      "source": [
        "# Calculate mean and standard deviation for lat and lon\n",
        "lat_mean = df['Start_Lat'].mean()\n",
        "lat_std = df['Start_Lat'].std()\n",
        "lng_mean = df['Start_Lng'].mean()\n",
        "lng_std = df['Start_Lng'].std()\n",
        "\n",
        "# Identify outliers\n",
        "outliers = df[\n",
        "    (abs(df['Start_Lat'] - lat_mean) > 3 * lat_std) |\n",
        "    (abs(df['Start_Lng'] - lng_mean) > 3 * lng_std)\n",
        "]\n",
        "\n",
        "# Show first few outliers\n",
        "outliers[['Start_Lat', 'Start_Lng']].head()"
      ]
    },
    {
      "cell_type": "code",
      "execution_count": null,
      "metadata": {
        "id": "rbjioghs55Dv"
      },
      "outputs": [],
      "source": [
        "import matplotlib.pyplot as plt\n",
        "\n",
        "plt.figure(figsize=(8,6))\n",
        "\n",
        "# Convert to pandas Series before plotting\n",
        "df_lat_pandas = df['Start_Lat'].to_pandas() if isinstance(df, cudf.DataFrame) else df['Start_Lat']\n",
        "df_lng_pandas = df['Start_Lng'].to_pandas() if isinstance(df, cudf.DataFrame) else df['Start_Lng']\n",
        "outliers_lat_pandas = outliers['Start_Lat'].to_pandas() if isinstance(outliers, cudf.DataFrame) else outliers['Start_Lat']\n",
        "outliers_lng_pandas = outliers['Start_Lng'].to_pandas() if isinstance(outliers, cudf.DataFrame) else outliers['Start_Lng']\n",
        "\n",
        "\n",
        "# Plot normal points\n",
        "plt.scatter(df_lng_pandas, df_lat_pandas, s=1, alpha=0.1, label=\"Normal Points\")\n",
        "\n",
        "# Plot outliers\n",
        "plt.scatter(outliers_lng_pandas, outliers_lat_pandas, s=10, color='red', label=\"Outliers\")\n",
        "\n",
        "plt.xlabel(\"Longitude\")\n",
        "plt.ylabel(\"Latitude\")\n",
        "plt.title(\"US Accidents Outlier Detection (Std Dev Method)\")\n",
        "plt.legend()\n",
        "plt.show()"
      ]
    }
  ],
  "metadata": {
    "accelerator": "GPU",
    "colab": {
      "gpuType": "T4",
      "provenance": [],
      "toc_visible": true
    },
    "kernelspec": {
      "display_name": "Python 3",
      "name": "python3"
    },
    "language_info": {
      "name": "python"
    }
  },
  "nbformat": 4,
  "nbformat_minor": 0
}
